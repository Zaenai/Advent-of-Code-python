{
 "cells": [
  {
   "cell_type": "markdown",
   "id": "5bb6a7ff-6632-49d1-8f71-3837c8a8baf8",
   "metadata": {},
   "source": [
    "### Init"
   ]
  },
  {
   "cell_type": "code",
   "execution_count": 2,
   "id": "bee0183e-c338-42eb-a403-1fb8a6e44246",
   "metadata": {},
   "outputs": [],
   "source": [
    "import numpy as np\n",
    "from collections import defaultdict"
   ]
  },
  {
   "cell_type": "code",
   "execution_count": 3,
   "id": "61a07a6d-63bc-4f59-b575-9b6a85f8eace",
   "metadata": {},
   "outputs": [],
   "source": [
    "with open(\"inputs/input23.txt\") as file: raw_data = file.read()\n",
    "data = [rd.split(\"-\") for rd in raw_data.split(\"\\n\")]"
   ]
  },
  {
   "cell_type": "markdown",
   "id": "c0967758-78a0-4bd8-8be7-880bcc803a9a",
   "metadata": {},
   "source": [
    "### Custom Function(s)"
   ]
  },
  {
   "cell_type": "code",
   "execution_count": 5,
   "id": "ed933281-4830-4238-a3d1-86c8fda5a6d5",
   "metadata": {},
   "outputs": [],
   "source": [
    "def HasNeighbours(allCons):\n",
    "    for c1 in allCons:\n",
    "        for c2 in allCons:\n",
    "            if c1 != c2:\n",
    "                if (c1 not in LAN[c2]):\n",
    "                    return False\n",
    "    return True\n",
    "\n",
    "def BronKerbosch(R, P, X):\n",
    "    if not len(P) and not len(X):\n",
    "        if len(R) not in biggestCliques:            \n",
    "            biggestCliques[len(R)] = sorted(list(R))\n",
    "    for v in list(P):\n",
    "        Nv = set()\n",
    "        for nb in LAN[v]:\n",
    "            Nv.add(nb)\n",
    "        BronKerbosch(R | set({v}), P & Nv, X & Nv)\n",
    "        P.remove(v)\n",
    "        X.add(v)"
   ]
  },
  {
   "cell_type": "markdown",
   "id": "347544fe-2508-4138-be9d-2014e5994cf0",
   "metadata": {},
   "source": [
    "### Part 1"
   ]
  },
  {
   "cell_type": "code",
   "execution_count": 7,
   "id": "c35c66b7-9e20-4508-befe-6f5a432fe19b",
   "metadata": {},
   "outputs": [],
   "source": [
    "LAN = defaultdict(list)\n",
    "for d in data:\n",
    "    LAN[d[0]].append(d[1])\n",
    "    LAN[d[1]].append(d[0])\n",
    "    \n",
    "for k,v in LAN.items():\n",
    "    LAN[k] = sorted(v)"
   ]
  },
  {
   "cell_type": "code",
   "execution_count": 8,
   "id": "b308fd39-feb1-4b1a-ab59-dac08f1c067d",
   "metadata": {},
   "outputs": [],
   "source": [
    "cycles = set()\n",
    "for pc,cons in LAN.items():\n",
    "    for con1 in cons:\n",
    "        for con2 in cons:  \n",
    "            if len(set(sorted([pc,con1,con2]))) == 3:\n",
    "                if HasNeighbours([pc,con1,con2]):    \n",
    "                    cycles.add(tuple(set(sorted([pc,con1,con2]))))"
   ]
  },
  {
   "cell_type": "code",
   "execution_count": 9,
   "id": "222d8f29-28de-47bc-9687-cb4d519154d9",
   "metadata": {},
   "outputs": [
    {
     "data": {
      "text/plain": [
       "1175"
      ]
     },
     "execution_count": 9,
     "metadata": {},
     "output_type": "execute_result"
    }
   ],
   "source": [
    "test = defaultdict(int)\n",
    "cnt = 0\n",
    "for cycle in cycles:\n",
    "    for c in list(cycle):\n",
    "        if \"t\" == c[0]:\n",
    "            cnt += 1\n",
    "            test[cycle] += 1\n",
    "            break\n",
    "cnt"
   ]
  },
  {
   "attachments": {},
   "cell_type": "markdown",
   "id": "edb35ac9-eac8-4759-a540-091f34c645a2",
   "metadata": {},
   "source": [
    "### Part 2"
   ]
  },
  {
   "cell_type": "code",
   "execution_count": 11,
   "id": "90a8104d-93e7-46f6-a95c-05bbd6de99e2",
   "metadata": {},
   "outputs": [],
   "source": [
    "biggestCliques = {}\n",
    "BronKerbosch(set(), set(LAN.keys()), set())\n",
    "maxClique = sorted(biggestCliques.items(), reverse=True)"
   ]
  },
  {
   "cell_type": "code",
   "execution_count": 12,
   "id": "f355f3ef-c4e3-4673-9d73-9ec8a3118b7f",
   "metadata": {},
   "outputs": [
    {
     "name": "stdout",
     "output_type": "stream",
     "text": [
      "bw,dr,du,ha,mm,ov,pj,qh,tz,uv,vq,wq,xw\n"
     ]
    }
   ],
   "source": [
    "print(\",\".join(maxClique[0][1]))"
   ]
  }
 ],
 "metadata": {
  "kernelspec": {
   "display_name": "Python 3 (ipykernel)",
   "language": "python",
   "name": "python3"
  },
  "language_info": {
   "codemirror_mode": {
    "name": "ipython",
    "version": 3
   },
   "file_extension": ".py",
   "mimetype": "text/x-python",
   "name": "python",
   "nbconvert_exporter": "python",
   "pygments_lexer": "ipython3",
   "version": "3.10.14"
  }
 },
 "nbformat": 4,
 "nbformat_minor": 5
}
