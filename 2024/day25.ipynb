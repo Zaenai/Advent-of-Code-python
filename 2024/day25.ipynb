{
 "cells": [
  {
   "cell_type": "markdown",
   "id": "5bb6a7ff-6632-49d1-8f71-3837c8a8baf8",
   "metadata": {},
   "source": [
    "### Init"
   ]
  },
  {
   "cell_type": "code",
   "execution_count": 2,
   "id": "bee0183e-c338-42eb-a403-1fb8a6e44246",
   "metadata": {},
   "outputs": [],
   "source": [
    "import numpy as np"
   ]
  },
  {
   "cell_type": "code",
   "execution_count": 3,
   "id": "61a07a6d-63bc-4f59-b575-9b6a85f8eace",
   "metadata": {},
   "outputs": [],
   "source": [
    "with open(\"inputs/input25.txt\") as file: raw_data = file.read()\n",
    "raw_data = raw_data.replace(\"#\",\"1\").replace(\".\",\"0\")\n",
    "\n",
    "\n",
    "tumblers = np.array([[list(map(int,r)) for r in rd.split(\"\\n\")] for rd in raw_data.split(\"\\n\\n\")])"
   ]
  },
  {
   "cell_type": "markdown",
   "id": "c0967758-78a0-4bd8-8be7-880bcc803a9a",
   "metadata": {},
   "source": [
    "### Custom Function(s)"
   ]
  },
  {
   "cell_type": "code",
   "execution_count": null,
   "id": "ed933281-4830-4238-a3d1-86c8fda5a6d5",
   "metadata": {},
   "outputs": [],
   "source": []
  },
  {
   "cell_type": "markdown",
   "id": "347544fe-2508-4138-be9d-2014e5994cf0",
   "metadata": {},
   "source": [
    "### Part 1"
   ]
  },
  {
   "cell_type": "code",
   "execution_count": 6,
   "id": "c35c66b7-9e20-4508-befe-6f5a432fe19b",
   "metadata": {},
   "outputs": [],
   "source": [
    "Locks,Keys = [],[]\n",
    "for tumbler in tumblers:\n",
    "    if sum(tumbler[0]):\n",
    "        Locks.append(tumbler)\n",
    "    else:\n",
    "        Keys.append(tumbler)"
   ]
  },
  {
   "cell_type": "code",
   "execution_count": 7,
   "id": "b308fd39-feb1-4b1a-ab59-dac08f1c067d",
   "metadata": {},
   "outputs": [
    {
     "data": {
      "text/plain": [
       "3525"
      ]
     },
     "execution_count": 7,
     "metadata": {},
     "output_type": "execute_result"
    }
   ],
   "source": [
    "cnt = 0\n",
    "for key in Keys:\n",
    "    for lock in Locks:\n",
    "        if not any(2 in pin for pin in key+lock):\n",
    "            cnt += 1\n",
    "cnt"
   ]
  }
 ],
 "metadata": {
  "kernelspec": {
   "display_name": "Python 3 (ipykernel)",
   "language": "python",
   "name": "python3"
  },
  "language_info": {
   "codemirror_mode": {
    "name": "ipython",
    "version": 3
   },
   "file_extension": ".py",
   "mimetype": "text/x-python",
   "name": "python",
   "nbconvert_exporter": "python",
   "pygments_lexer": "ipython3",
   "version": "3.10.14"
  }
 },
 "nbformat": 4,
 "nbformat_minor": 5
}
